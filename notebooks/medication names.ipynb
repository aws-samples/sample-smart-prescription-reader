{
 "cells": [
  {
   "metadata": {},
   "cell_type": "markdown",
   "source": [
    "# Correcting Transcription Errors\n",
    "\n",
    "If we have a list of valid medications, then a foundational model can use it as a reference to correct transcription errors in hard to read prescriptions.\n",
    "\n",
    "Using Drugs@FDA as an example\n",
    "https://www.fda.gov/drugs/drug-approvals-and-databases/drugsfda-data-files"
   ],
   "id": "bf64f0cb138b59f3"
  },
  {
   "metadata": {
    "ExecuteTime": {
     "end_time": "2025-05-13T19:32:17.972833Z",
     "start_time": "2025-05-13T19:32:17.970225Z"
    }
   },
   "cell_type": "code",
   "source": [
    "import sqlite3\n",
    "import csv\n",
    "import re\n",
    "import numpy as np\n",
    "\n",
    "import rapidfuzz"
   ],
   "id": "initial_id",
   "outputs": [],
   "execution_count": 119
  },
  {
   "metadata": {},
   "cell_type": "markdown",
   "source": [
    " ## Fuzzy Matching\n",
    "First, we need to identify any words in the transcription that are close to valid drug names or active ingredients. We can use fuzzy matching to get likely matches based on metrics like Levenshtein Distance. To do that, create a word list or dictionary of all the possibly words we care about."
   ],
   "id": "b1ab0334c985901a"
  },
  {
   "metadata": {
    "ExecuteTime": {
     "end_time": "2025-05-13T16:38:32.583019Z",
     "start_time": "2025-05-13T16:38:32.580754Z"
    }
   },
   "cell_type": "code",
   "source": [
    "def clean_word(word: str) -> str:\n",
    "    \"\"\"Clean a single word by removing special characters and converting to uppercase\"\"\"\n",
    "    return re.sub(r'[^A-Za-z]', '', word).upper()"
   ],
   "id": "c57451f22bb151bb",
   "outputs": [],
   "execution_count": 2
  },
  {
   "metadata": {
    "ExecuteTime": {
     "end_time": "2025-05-13T18:35:28.836029Z",
     "start_time": "2025-05-13T18:35:28.833390Z"
    }
   },
   "cell_type": "code",
   "source": [
    "def should_keep_word(word: str) -> bool:\n",
    "    \"\"\"Determine if a word should be kept in the final list\"\"\"\n",
    "    # Skip empty strings\n",
    "    if not word:\n",
    "        return False\n",
    "\n",
    "    # Skip short words\n",
    "    if len(word) < 3:\n",
    "        return False\n",
    "\n",
    "    # Skip common conjunctions and articles and any words that don't differentiate\n",
    "    skip_words = {'AND', 'OR', 'WITH', 'IN', 'THE', 'DAILY'}\n",
    "\n",
    "    # Skip common chemical terms\n",
    "    chemical_terms = {'SODIUM', 'HYDROCHLORIDE', 'HCL', 'SULFATE', 'PHOSPHATE',\n",
    "                      'ACETATE', 'CITRATE', 'COMPLEX', 'RESIN', 'ASPARTATE'}\n",
    "    if word in skip_words | chemical_terms:\n",
    "        return False\n",
    "\n",
    "    return True"
   ],
   "id": "c5bedba5b2743a5",
   "outputs": [],
   "execution_count": 97
  },
  {
   "metadata": {
    "ExecuteTime": {
     "end_time": "2025-05-13T18:35:32.797675Z",
     "start_time": "2025-05-13T18:35:32.794538Z"
    }
   },
   "cell_type": "code",
   "source": [
    "def compact_drug_names(filename: str) -> list:\n",
    "    \"\"\"\n",
    "    Read drug names from file and return set of individual cleaned words\n",
    "    \"\"\"\n",
    "    unique_words = set()\n",
    "\n",
    "    with open(filename, 'r') as file:\n",
    "        #discard first line header\n",
    "        file.readline()\n",
    "        for line in file:\n",
    "            # Remove any text between **\n",
    "            line = re.sub(r'\\*\\*.*?\\*\\*', '', line)\n",
    "\n",
    "            # Split on common delimiters\n",
    "            words = re.split(r'[,;/\\(\\)]', line)\n",
    "\n",
    "            for word_group in words:\n",
    "                # Split into individual words\n",
    "                individual_words = word_group.split()\n",
    "\n",
    "                # Clean and filter each word\n",
    "                for word in individual_words:\n",
    "                    cleaned_word = clean_word(word)\n",
    "                    if should_keep_word(cleaned_word):\n",
    "                        unique_words.add(cleaned_word)\n",
    "\n",
    "    return sorted(list(unique_words))\n"
   ],
   "id": "a52b4180c554ced2",
   "outputs": [],
   "execution_count": 98
  },
  {
   "metadata": {
    "ExecuteTime": {
     "end_time": "2025-05-13T18:35:35.437776Z",
     "start_time": "2025-05-13T18:35:34.936791Z"
    }
   },
   "cell_type": "code",
   "source": "sorted_names = compact_drug_names(\"data/Products.txt\")",
   "id": "dc1284015ed5ef67",
   "outputs": [],
   "execution_count": 99
  },
  {
   "metadata": {
    "ExecuteTime": {
     "end_time": "2025-05-13T18:59:42.137640Z",
     "start_time": "2025-05-13T18:59:42.135127Z"
    }
   },
   "cell_type": "code",
   "source": "print(len(sorted_names))",
   "id": "52cc865636684b11",
   "outputs": [
    {
     "name": "stdout",
     "output_type": "stream",
     "text": [
      "7767\n"
     ]
    }
   ],
   "execution_count": 116
  },
  {
   "metadata": {
    "ExecuteTime": {
     "end_time": "2025-05-13T18:35:37.570021Z",
     "start_time": "2025-05-13T18:35:37.564428Z"
    }
   },
   "cell_type": "code",
   "source": [
    "# Write the result to a new file\n",
    "with open('data/compact_drug_names.txt', 'w') as outfile:\n",
    "    for name in sorted_names:\n",
    "        outfile.write(f\"{name}\\n\")"
   ],
   "id": "e76261749605cd71",
   "outputs": [],
   "execution_count": 100
  },
  {
   "metadata": {
    "ExecuteTime": {
     "end_time": "2025-05-13T18:48:37.548345Z",
     "start_time": "2025-05-13T18:48:37.545449Z"
    }
   },
   "cell_type": "code",
   "source": [
    "class DrugNameMatcher:\n",
    "    def __init__(self, word_list: list[str], threshold: int = 80):\n",
    "        self.word_list = word_list\n",
    "        self.threshold = threshold\n",
    "\n",
    "    def find_matches(self, query: str, limit: int = 5) -> list[tuple[str, int, int | str]]:\n",
    "        \"\"\"\n",
    "        Find matching drug names for the query.\n",
    "        Returns empty list if no matches meet the threshold.\n",
    "        \"\"\"\n",
    "        matches = rapidfuzz.process.extract(\n",
    "            query.upper(),\n",
    "            self.word_list,\n",
    "            scorer=rapidfuzz.fuzz.WRatio,\n",
    "            limit=limit,\n",
    "            score_cutoff=self.threshold\n",
    "        )\n",
    "        return matches"
   ],
   "id": "de5562046c87cf8f",
   "outputs": [],
   "execution_count": 107
  },
  {
   "metadata": {
    "ExecuteTime": {
     "end_time": "2025-05-13T18:48:39.194344Z",
     "start_time": "2025-05-13T18:48:39.192036Z"
    }
   },
   "cell_type": "code",
   "source": "matcher = DrugNameMatcher(sorted_names, threshold=80)",
   "id": "8d224133b42288d0",
   "outputs": [],
   "execution_count": 108
  },
  {
   "metadata": {
    "ExecuteTime": {
     "end_time": "2025-05-13T19:43:47.765322Z",
     "start_time": "2025-05-13T19:43:47.763214Z"
    }
   },
   "cell_type": "code",
   "source": [
    "# Test with mix of drug names and common medical text\n",
    "test_words = [\n",
    "    \"Heprin\",  # Should match\n",
    "    \"1x\",  # Should not match\n",
    "    \"daily\",  # Should not match\n",
    "    \"Demerol\",  # Should match\n",
    "    \"take\",  # Should not match\n",
    "    \"Amphetm1ne\",  # Should match\n",
    "    \"fexafenodine\",\n",
    "    \"albeturol\",\n",
    "]\n",
    "upper_test_words = [w.upper() for w in test_words]"
   ],
   "id": "15afcbd71ee32fa1",
   "outputs": [],
   "execution_count": 140
  },
  {
   "metadata": {
    "ExecuteTime": {
     "end_time": "2025-05-13T19:44:03.649062Z",
     "start_time": "2025-05-13T19:44:03.604138Z"
    }
   },
   "cell_type": "code",
   "source": [
    "terms = set()\n",
    "for word in upper_test_words:\n",
    "    matches = rapidfuzz.process.extract(\n",
    "            word,\n",
    "            sorted_names,\n",
    "            scorer=rapidfuzz.fuzz.WRatio,\n",
    "            score_cutoff=80\n",
    "        )\n",
    "    if matches:\n",
    "        for match, score, _ in matches:\n",
    "            terms.add(match)"
   ],
   "id": "9752742eb05caf2e",
   "outputs": [],
   "execution_count": 141
  },
  {
   "metadata": {
    "ExecuteTime": {
     "end_time": "2025-05-13T19:44:05.936081Z",
     "start_time": "2025-05-13T19:44:05.886688Z"
    }
   },
   "cell_type": "code",
   "source": [
    "matches_matrix = rapidfuzz.process.cdist(upper_test_words, sorted_names, scorer=rapidfuzz.fuzz.WRatio, score_cutoff=80)\n",
    "terms = set(sorted_names[i] for i in np.where(matches_matrix >= 0.8)[0])"
   ],
   "id": "e40dc443e2adfa6",
   "outputs": [],
   "execution_count": 142
  },
  {
   "metadata": {},
   "cell_type": "markdown",
   "source": [
    "## Drug Details\n",
    "It could be sufficient to provide the list of likely words to the foundational model, but our data set includes valid strengths for each drug. By providing the full details of the likely medications, the foundational model can correct transcription errors in strength as well.\n",
    "\n",
    "The dictionary includes terms from the drug names and active ingredients. We can use a substring search to get all the records for the likely words. To reduce the results somewhat, filter the substring matches by word boundaries. It is more likely that the transcription error will be a similar length to the correct term.\n",
    "\n",
    "Since the dataset is relatively small and doesn't change frequently, it's fine to use sqlite stored in S3 and downloaded on initialization."
   ],
   "id": "68ae9a3560726e2a"
  },
  {
   "metadata": {
    "ExecuteTime": {
     "end_time": "2025-05-13T16:45:23.835450Z",
     "start_time": "2025-05-13T16:45:23.833125Z"
    }
   },
   "cell_type": "code",
   "source": [
    "def clean_strength(text):\n",
    "    # Remove comments between ** and **\n",
    "    return re.sub(r'\\*\\*.*?\\*\\*', '', text).strip()"
   ],
   "id": "56a73ca7a403d9c3",
   "outputs": [],
   "execution_count": 11
  },
  {
   "metadata": {
    "ExecuteTime": {
     "end_time": "2025-05-13T18:17:06.917401Z",
     "start_time": "2025-05-13T18:17:06.839255Z"
    }
   },
   "cell_type": "code",
   "source": [
    "consolidated = []\n",
    "\n",
    "# Read and process the data\n",
    "with open('data/Products.txt', 'r') as file:\n",
    "    next(file)  # Skip header\n",
    "    reader = csv.reader(file, delimiter='\\t')\n",
    "\n",
    "    for row in reader:\n",
    "        if len(row) >= 8:\n",
    "            active_ingredient = row[6]\n",
    "            form = row[2]\n",
    "            drug_name = row[5]\n",
    "            # Clean strength by removing comments between **\n",
    "            strength = clean_strength(row[3])\n",
    "\n",
    "            consolidated.append((drug_name, active_ingredient, form, strength))\n"
   ],
   "id": "a78a1a91db1d912f",
   "outputs": [],
   "execution_count": 65
  },
  {
   "metadata": {
    "ExecuteTime": {
     "end_time": "2025-05-13T18:18:53.385920Z",
     "start_time": "2025-05-13T18:18:53.378804Z"
    }
   },
   "cell_type": "code",
   "source": [
    "# Create/connect to SQLite database\n",
    "conn = sqlite3.connect('data/drugs.db')\n",
    "cursor = conn.cursor()\n",
    "\n",
    "# Create table with consolidated columns\n",
    "cursor.execute('''\n",
    "    CREATE TABLE IF NOT EXISTS drugs (\n",
    "        drug_name TEXT,\n",
    "        active_ingredient TEXT,\n",
    "        strength TEXT,\n",
    "        form TEXT\n",
    "    )\n",
    "''')\n",
    "\n",
    "# Create index for text search on active_ingredient\n",
    "cursor.execute('CREATE INDEX IF NOT EXISTS idx_active_ingredient ON drugs(active_ingredient)')\n",
    "cursor.execute('CREATE INDEX IF NOT EXISTS idx_drug_name ON drugs(drug_name)')\n"
   ],
   "id": "e3463abab17d7468",
   "outputs": [
    {
     "data": {
      "text/plain": [
       "<sqlite3.Cursor at 0x10423a340>"
      ]
     },
     "execution_count": 68,
     "metadata": {},
     "output_type": "execute_result"
    }
   ],
   "execution_count": 68
  },
  {
   "metadata": {
    "ExecuteTime": {
     "end_time": "2025-05-13T18:19:36.638237Z",
     "start_time": "2025-05-13T18:19:36.423155Z"
    }
   },
   "cell_type": "code",
   "source": [
    "# Insert consolidated data\n",
    "for (drug_name, active_ingredient, form, strength) in consolidated:\n",
    "\n",
    "    cursor.execute('''\n",
    "        INSERT INTO drugs (active_ingredient, form, drug_name, strength)\n",
    "        VALUES (?, ?, ?, ?)\n",
    "    ''', (active_ingredient, form, drug_name, strength))\n",
    "\n",
    "# Commit changes and close connection\n",
    "conn.commit()\n",
    "conn.close()"
   ],
   "id": "64d571716967d9ea",
   "outputs": [],
   "execution_count": 69
  },
  {
   "metadata": {
    "ExecuteTime": {
     "end_time": "2025-05-13T18:20:02.681787Z",
     "start_time": "2025-05-13T18:20:02.678930Z"
    }
   },
   "cell_type": "code",
   "source": [
    "def search_drugs(search_terms: list[str]):\n",
    "    conn = sqlite3.connect('data/drugs.db')\n",
    "    cursor = conn.cursor()\n",
    "\n",
    "    # Create the WHERE clause dynamically with OR conditions\n",
    "    where_conditions = []\n",
    "    params = []\n",
    "    for term in search_terms:\n",
    "        where_conditions.append('''\n",
    "            (drug_name LIKE ? OR active_ingredient LIKE ?)\n",
    "        ''')\n",
    "        params.extend([f'%{term}%', f'%{term}%'])\n",
    "\n",
    "    query = f'''\n",
    "        SELECT active_ingredient, drug_name, form, strength\n",
    "        FROM drugs\n",
    "        WHERE {' OR '.join(where_conditions)}\n",
    "    '''\n",
    "\n",
    "    cursor.execute(query, params)\n",
    "    results = cursor.fetchall()\n",
    "    conn.close()\n",
    "    pattern = r'\\b(' + r'|'.join(re.escape(term) for term in search_terms) + r')\\b'\n",
    "    filtered_results = [\n",
    "        row for row in results\n",
    "        if re.search(pattern, row[0], re.IGNORECASE) or\n",
    "           re.search(pattern, row[1], re.IGNORECASE)\n",
    "    ]\n",
    "    return filtered_results\n"
   ],
   "id": "250e62c49b999fb3",
   "outputs": [],
   "execution_count": 74
  },
  {
   "metadata": {
    "ExecuteTime": {
     "end_time": "2025-05-13T19:45:08.434658Z",
     "start_time": "2025-05-13T19:45:08.379259Z"
    }
   },
   "cell_type": "code",
   "source": [
    "results = search_drugs(list(terms))\n",
    "print(len(results))"
   ],
   "id": "13d75bc74cbff26d",
   "outputs": [
    {
     "name": "stdout",
     "output_type": "stream",
     "text": [
      "51\n"
     ]
    }
   ],
   "execution_count": 143
  },
  {
   "metadata": {
    "ExecuteTime": {
     "end_time": "2025-05-13T18:19:45.552006Z",
     "start_time": "2025-05-13T18:19:45.550265Z"
    }
   },
   "cell_type": "code",
   "source": "",
   "id": "ff9fed362db111d4",
   "outputs": [],
   "execution_count": null
  },
  {
   "metadata": {},
   "cell_type": "code",
   "outputs": [],
   "execution_count": null,
   "source": "",
   "id": "dfec64132a4e9d41"
  }
 ],
 "metadata": {
  "kernelspec": {
   "display_name": "Python 3",
   "language": "python",
   "name": "python3"
  },
  "language_info": {
   "codemirror_mode": {
    "name": "ipython",
    "version": 2
   },
   "file_extension": ".py",
   "mimetype": "text/x-python",
   "name": "python",
   "nbconvert_exporter": "python",
   "pygments_lexer": "ipython2",
   "version": "2.7.6"
  }
 },
 "nbformat": 4,
 "nbformat_minor": 5
}
