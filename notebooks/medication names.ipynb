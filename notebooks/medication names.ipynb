{
 "cells": [
  {
   "metadata": {},
   "cell_type": "markdown",
   "source": [
    "# Correcting Transcription Errors\n",
    "\n",
    "If we have a list of valid medications, then a foundational model can use it as a reference to correct transcription errors in hard to read prescriptions.\n",
    "\n",
    "Using Drugs@FDA as an example\n",
    "https://www.fda.gov/drugs/drug-approvals-and-databases/drugsfda-data-files"
   ],
   "id": "bf64f0cb138b59f3"
  },
  {
   "metadata": {
    "ExecuteTime": {
     "end_time": "2025-05-14T21:05:20.307371Z",
     "start_time": "2025-05-14T21:05:20.305094Z"
    }
   },
   "cell_type": "code",
   "source": [
    "import sqlite3\n",
    "import csv\n",
    "import json\n",
    "import re\n",
    "import numpy as np\n",
    "import boto3\n",
    "import rapidfuzz\n",
    "from typing import Optional\n",
    "from functools import lru_cache\n",
    "\n",
    "from mypy_boto3_textract import TextractClient\n",
    "from mypy_boto3_bedrock_runtime import BedrockRuntimeClient"
   ],
   "id": "initial_id",
   "outputs": [],
   "execution_count": 18
  },
  {
   "metadata": {},
   "cell_type": "markdown",
   "source": [
    " ## Fuzzy Matching\n",
    "First, we need to identify any words in the transcription that are close to valid drug names or active ingredients. We can use fuzzy matching to get likely matches based on metrics like Levenshtein Distance. To do that, create a word list or dictionary of all the possibly words we care about."
   ],
   "id": "b1ab0334c985901a"
  },
  {
   "metadata": {
    "ExecuteTime": {
     "end_time": "2025-05-14T21:05:20.332368Z",
     "start_time": "2025-05-14T21:05:20.330235Z"
    }
   },
   "cell_type": "code",
   "source": [
    "def clean_word(word: str) -> str:\n",
    "    \"\"\"Clean a single word by removing special characters and converting to uppercase\"\"\"\n",
    "    return re.sub(r'[^A-Za-z]', '', word).upper()"
   ],
   "id": "c57451f22bb151bb",
   "outputs": [],
   "execution_count": 19
  },
  {
   "metadata": {
    "ExecuteTime": {
     "end_time": "2025-05-14T21:05:20.348524Z",
     "start_time": "2025-05-14T21:05:20.346232Z"
    }
   },
   "cell_type": "code",
   "source": [
    "def should_keep_word(word: str) -> bool:\n",
    "    \"\"\"Determine if a word should be kept in the final list\"\"\"\n",
    "    # Skip empty strings\n",
    "    if not word:\n",
    "        return False\n",
    "\n",
    "    # Skip short words\n",
    "    if len(word) < 3:\n",
    "        return False\n",
    "\n",
    "    # Skip common conjunctions and articles and any words that don't differentiate\n",
    "    skip_words = {'AND', 'OR', 'WITH', 'IN', 'THE', 'DAILY'}\n",
    "\n",
    "    # Skip common chemical terms\n",
    "    chemical_terms = {'SODIUM', 'HYDROCHLORIDE', 'HCL', 'SULFATE', 'PHOSPHATE',\n",
    "                      'ACETATE', 'CITRATE', 'COMPLEX', 'RESIN', 'ASPARTATE'}\n",
    "    if word in skip_words | chemical_terms:\n",
    "        return False\n",
    "\n",
    "    return True"
   ],
   "id": "c5bedba5b2743a5",
   "outputs": [],
   "execution_count": 20
  },
  {
   "metadata": {
    "ExecuteTime": {
     "end_time": "2025-05-14T21:05:20.367054Z",
     "start_time": "2025-05-14T21:05:20.364540Z"
    }
   },
   "cell_type": "code",
   "source": [
    "def compact_drug_names(filename: str) -> list:\n",
    "    \"\"\"\n",
    "    Read drug names from file and return set of individual cleaned words\n",
    "    \"\"\"\n",
    "    unique_words = set()\n",
    "\n",
    "    with open(filename, 'r') as file:\n",
    "        #discard first line header\n",
    "        file.readline()\n",
    "        for line in file:\n",
    "            # Remove any text between **\n",
    "            line = re.sub(r'\\*\\*.*?\\*\\*', '', line)\n",
    "\n",
    "            # Split on common delimiters\n",
    "            words = re.split(r'[,;/\\(\\)]', line)\n",
    "\n",
    "            for word_group in words:\n",
    "                # Split into individual words\n",
    "                individual_words = word_group.split()\n",
    "\n",
    "                # Clean and filter each word\n",
    "                for word in individual_words:\n",
    "                    cleaned_word = clean_word(word)\n",
    "                    if should_keep_word(cleaned_word):\n",
    "                        unique_words.add(cleaned_word)\n",
    "\n",
    "    return sorted(list(unique_words))\n"
   ],
   "id": "a52b4180c554ced2",
   "outputs": [],
   "execution_count": 21
  },
  {
   "metadata": {
    "ExecuteTime": {
     "end_time": "2025-05-14T21:05:20.870866Z",
     "start_time": "2025-05-14T21:05:20.376408Z"
    }
   },
   "cell_type": "code",
   "source": "sorted_names = compact_drug_names(\"data/Products.txt\")",
   "id": "dc1284015ed5ef67",
   "outputs": [],
   "execution_count": 22
  },
  {
   "metadata": {
    "ExecuteTime": {
     "end_time": "2025-05-14T21:05:20.880632Z",
     "start_time": "2025-05-14T21:05:20.878704Z"
    }
   },
   "cell_type": "code",
   "source": "print(len(sorted_names))",
   "id": "52cc865636684b11",
   "outputs": [
    {
     "name": "stdout",
     "output_type": "stream",
     "text": [
      "7767\n"
     ]
    }
   ],
   "execution_count": 23
  },
  {
   "metadata": {
    "ExecuteTime": {
     "end_time": "2025-05-14T21:05:20.903877Z",
     "start_time": "2025-05-14T21:05:20.900069Z"
    }
   },
   "cell_type": "code",
   "source": [
    "# Write the result to a new file\n",
    "with open('data/compact_drug_names.txt', 'w') as outfile:\n",
    "    for name in sorted_names:\n",
    "        outfile.write(f\"{name}\\n\")"
   ],
   "id": "e76261749605cd71",
   "outputs": [],
   "execution_count": 24
  },
  {
   "metadata": {
    "ExecuteTime": {
     "end_time": "2025-05-14T21:05:20.925288Z",
     "start_time": "2025-05-14T21:05:20.923240Z"
    }
   },
   "cell_type": "code",
   "source": [
    "# Test with mix of drug names and common medical text\n",
    "test_words = [\n",
    "    \"Heprin\",  # Should match\n",
    "    \"1x\",  # Should not match\n",
    "    \"daily\",  # Should not match\n",
    "    \"Demerol\",  # Should match\n",
    "    \"take\",  # Should not match\n",
    "    \"Amphetm1ne\",  # Should match\n",
    "    \"fexafenodine\",\n",
    "    \"albeturol\",\n",
    "]\n",
    "upper_test_words = [w.upper() for w in test_words]"
   ],
   "id": "15afcbd71ee32fa1",
   "outputs": [],
   "execution_count": 25
  },
  {
   "metadata": {
    "ExecuteTime": {
     "end_time": "2025-05-14T21:05:20.973352Z",
     "start_time": "2025-05-14T21:05:20.935554Z"
    }
   },
   "cell_type": "code",
   "source": [
    "terms = set()\n",
    "for word in upper_test_words:\n",
    "    matches = rapidfuzz.process.extract(\n",
    "        word,\n",
    "        sorted_names,\n",
    "        scorer=rapidfuzz.fuzz.WRatio,\n",
    "        score_cutoff=80\n",
    "    )\n",
    "    if matches:\n",
    "        for match, score, _ in matches:\n",
    "            terms.add(match)"
   ],
   "id": "9752742eb05caf2e",
   "outputs": [],
   "execution_count": 26
  },
  {
   "metadata": {
    "ExecuteTime": {
     "end_time": "2025-05-14T21:05:21.016786Z",
     "start_time": "2025-05-14T21:05:20.980948Z"
    }
   },
   "cell_type": "code",
   "source": [
    "matches_matrix = rapidfuzz.process.cdist(upper_test_words, sorted_names, scorer=rapidfuzz.fuzz.WRatio, score_cutoff=80)\n",
    "terms = set(sorted_names[i] for i in np.where(matches_matrix >= 0.8)[0])"
   ],
   "id": "e40dc443e2adfa6",
   "outputs": [],
   "execution_count": 27
  },
  {
   "metadata": {},
   "cell_type": "markdown",
   "source": [
    "## Drug Details\n",
    "It could be sufficient to provide the list of likely words to the foundational model, but our data set includes valid strengths for each drug. By providing the full details of the likely medications, the foundational model can correct transcription errors in strength as well.\n",
    "\n",
    "The dictionary includes terms from the drug names and active ingredients. We can use a substring search to get all the records for the likely words. To reduce the results somewhat, filter the substring matches by word boundaries. It is more likely that the transcription error will be a similar length to the correct term.\n",
    "\n",
    "Since the dataset is relatively small and doesn't change frequently, it's fine to use sqlite stored in S3 and downloaded on initialization."
   ],
   "id": "68ae9a3560726e2a"
  },
  {
   "metadata": {
    "ExecuteTime": {
     "end_time": "2025-05-14T21:05:21.026184Z",
     "start_time": "2025-05-14T21:05:21.024415Z"
    }
   },
   "cell_type": "code",
   "source": [
    "def clean_strength(text):\n",
    "    # Remove comments between ** and **\n",
    "    return re.sub(r'\\*\\*.*?\\*\\*', '', text).strip()"
   ],
   "id": "56a73ca7a403d9c3",
   "outputs": [],
   "execution_count": 28
  },
  {
   "metadata": {
    "ExecuteTime": {
     "end_time": "2025-05-14T21:05:21.106639Z",
     "start_time": "2025-05-14T21:05:21.036011Z"
    }
   },
   "cell_type": "code",
   "source": [
    "consolidated = []\n",
    "\n",
    "# Read and process the data\n",
    "with open('data/Products.txt', 'r') as file:\n",
    "    next(file)  # Skip header\n",
    "    reader = csv.reader(file, delimiter='\\t')\n",
    "\n",
    "    for row in reader:\n",
    "        if len(row) >= 8:\n",
    "            active_ingredient = row[6]\n",
    "            form = row[2]\n",
    "            drug_name = row[5]\n",
    "            # Clean strength by removing comments between **\n",
    "            strength = clean_strength(row[3])\n",
    "\n",
    "            consolidated.append((drug_name, active_ingredient, form, strength))\n"
   ],
   "id": "a78a1a91db1d912f",
   "outputs": [],
   "execution_count": 29
  },
  {
   "metadata": {
    "ExecuteTime": {
     "end_time": "2025-05-14T21:05:21.117634Z",
     "start_time": "2025-05-14T21:05:21.114288Z"
    }
   },
   "cell_type": "code",
   "source": [
    "# Create/connect to SQLite database\n",
    "conn = sqlite3.connect('data/drugs.db')\n",
    "cursor = conn.cursor()\n",
    "\n",
    "# Create table with consolidated columns\n",
    "cursor.execute('''\n",
    "               CREATE TABLE IF NOT EXISTS drugs\n",
    "               (\n",
    "                   drug_name\n",
    "                   TEXT,\n",
    "                   active_ingredient\n",
    "                   TEXT,\n",
    "                   strength\n",
    "                   TEXT,\n",
    "                   form\n",
    "                   TEXT\n",
    "               )\n",
    "               ''')\n",
    "\n",
    "# Create index for text search on active_ingredient\n",
    "cursor.execute('CREATE INDEX IF NOT EXISTS idx_active_ingredient ON drugs(active_ingredient COLLATE NOCASE)')\n",
    "cursor.execute('CREATE INDEX IF NOT EXISTS idx_drug_name ON drugs(drug_name COLLATE NOCASE)')\n"
   ],
   "id": "e3463abab17d7468",
   "outputs": [
    {
     "data": {
      "text/plain": [
       "<sqlite3.Cursor at 0x108b98e40>"
      ]
     },
     "execution_count": 30,
     "metadata": {},
     "output_type": "execute_result"
    }
   ],
   "execution_count": 30
  },
  {
   "metadata": {
    "ExecuteTime": {
     "end_time": "2025-05-14T21:05:21.495983Z",
     "start_time": "2025-05-14T21:05:21.141507Z"
    }
   },
   "cell_type": "code",
   "source": [
    "# Insert consolidated data\n",
    "for (drug_name, active_ingredient, form, strength) in consolidated:\n",
    "    cursor.execute('''\n",
    "                   INSERT INTO drugs (active_ingredient, form, drug_name, strength)\n",
    "                   VALUES (?, ?, ?, ?)\n",
    "                   ''', (active_ingredient, form, drug_name, strength))\n",
    "\n",
    "# Commit changes and close connection\n",
    "conn.commit()\n",
    "conn.close()"
   ],
   "id": "64d571716967d9ea",
   "outputs": [],
   "execution_count": 31
  },
  {
   "metadata": {
    "ExecuteTime": {
     "end_time": "2025-05-14T21:05:21.506370Z",
     "start_time": "2025-05-14T21:05:21.503800Z"
    }
   },
   "cell_type": "code",
   "source": [
    "def search_drugs(search_terms: list[str]):\n",
    "    conn = sqlite3.connect('data/drugs.db')\n",
    "    cursor = conn.cursor()\n",
    "\n",
    "    # Create the WHERE clause dynamically with OR conditions\n",
    "    where_conditions = []\n",
    "    params = []\n",
    "    for term in search_terms:\n",
    "        where_conditions.append('''\n",
    "            (drug_name LIKE ? OR active_ingredient LIKE ?)\n",
    "        ''')\n",
    "        params.extend([f'%{term}%', f'%{term}%'])\n",
    "\n",
    "    query = f'''\n",
    "        SELECT active_ingredient, drug_name, strength\n",
    "        FROM drugs\n",
    "        WHERE {' OR '.join(where_conditions)}\n",
    "    '''\n",
    "\n",
    "    cursor.execute(query, params)\n",
    "    results = cursor.fetchall()\n",
    "    conn.close()\n",
    "    print(\"raw result count\", len(results))\n",
    "    pattern = r'\\b(' + r'|'.join(re.escape(term) for term in search_terms) + r')\\b'\n",
    "    filtered_results = [\n",
    "        row for row in results\n",
    "        if re.search(pattern, row[0], re.IGNORECASE) or\n",
    "           re.search(pattern, row[1], re.IGNORECASE)\n",
    "    ]\n",
    "    print(\"filtered result count\", len(filtered_results))\n",
    "    return filtered_results\n"
   ],
   "id": "250e62c49b999fb3",
   "outputs": [],
   "execution_count": 32
  },
  {
   "metadata": {
    "ExecuteTime": {
     "end_time": "2025-05-14T21:05:21.595172Z",
     "start_time": "2025-05-14T21:05:21.517121Z"
    }
   },
   "cell_type": "code",
   "source": [
    "results = search_drugs(list(terms))\n",
    "print(len(results))"
   ],
   "id": "13d75bc74cbff26d",
   "outputs": [
    {
     "name": "stdout",
     "output_type": "stream",
     "text": [
      "raw result count 102\n",
      "filtered result count 102\n",
      "102\n"
     ]
    }
   ],
   "execution_count": 33
  },
  {
   "metadata": {},
   "cell_type": "markdown",
   "source": "## Textract",
   "id": "84ac989e4ebaaf9"
  },
  {
   "metadata": {
    "ExecuteTime": {
     "end_time": "2025-05-14T21:05:24.522627Z",
     "start_time": "2025-05-14T21:05:21.603511Z"
    }
   },
   "cell_type": "code",
   "source": "textract: \"TextractClient\" = boto3.client('textract')",
   "id": "ff9fed362db111d4",
   "outputs": [],
   "execution_count": 34
  },
  {
   "metadata": {
    "ExecuteTime": {
     "end_time": "2025-05-14T21:05:27.304080Z",
     "start_time": "2025-05-14T21:05:24.531209Z"
    }
   },
   "cell_type": "code",
   "source": [
    "with open(\"data/fake prescription.jpg\", \"rb\") as f:\n",
    "    image = f.read()\n",
    "result = textract.detect_document_text(Document={\"Bytes\": image})"
   ],
   "id": "9ab39d0ad0dc1e7e",
   "outputs": [],
   "execution_count": 35
  },
  {
   "metadata": {
    "ExecuteTime": {
     "end_time": "2025-05-14T21:05:27.316765Z",
     "start_time": "2025-05-14T21:05:27.314780Z"
    }
   },
   "cell_type": "code",
   "source": [
    "blocks = result['Blocks']\n",
    "raw_text = '\\n'.join([block['Text'] for block in blocks if block['BlockType'] == 'LINE'])"
   ],
   "id": "f7ad4b9857639a30",
   "outputs": [],
   "execution_count": 36
  },
  {
   "metadata": {
    "ExecuteTime": {
     "end_time": "2025-05-14T21:05:27.342480Z",
     "start_time": "2025-05-14T21:05:27.340575Z"
    }
   },
   "cell_type": "code",
   "source": [
    "raw_text = '''Date 12 may 2025\n",
    "R\n",
    "Patient\n",
    "Mateo Jackson\n",
    "Address\n",
    "Prescription:\n",
    "- Fenderedine 180mg\n",
    "1x daily\n",
    "-Flonese 50mcg\n",
    "/ spray/nostril 2x daily\n",
    "-Ventolin 90 meg\n",
    "2 puffs as needed\n",
    "MOlance\n",
    "Refil 012345\n",
    "Permission'''"
   ],
   "id": "c7d5cfaa7052a819",
   "outputs": [],
   "execution_count": 37
  },
  {
   "metadata": {
    "ExecuteTime": {
     "end_time": "2025-05-14T21:05:27.368871Z",
     "start_time": "2025-05-14T21:05:27.366831Z"
    }
   },
   "cell_type": "code",
   "source": "print(raw_text)",
   "id": "304e1f3cca12f64a",
   "outputs": [
    {
     "name": "stdout",
     "output_type": "stream",
     "text": [
      "Date 12 may 2025\n",
      "R\n",
      "Patient\n",
      "Mateo Jackson\n",
      "Address\n",
      "Prescription:\n",
      "- Fenderedine 180mg\n",
      "1x daily\n",
      "-Flonese 50mcg\n",
      "/ spray/nostril 2x daily\n",
      "-Ventolin 90 meg\n",
      "2 puffs as needed\n",
      "MOlance\n",
      "Refil 012345\n",
      "Permission\n"
     ]
    }
   ],
   "execution_count": 38
  },
  {
   "metadata": {
    "ExecuteTime": {
     "end_time": "2025-05-14T21:05:27.409375Z",
     "start_time": "2025-05-14T21:05:27.406889Z"
    }
   },
   "cell_type": "code",
   "source": "raw_text.split()",
   "id": "4cf7e2b160b67eab",
   "outputs": [
    {
     "data": {
      "text/plain": [
       "['Date',\n",
       " '12',\n",
       " 'may',\n",
       " '2025',\n",
       " 'R',\n",
       " 'Patient',\n",
       " 'Mateo',\n",
       " 'Jackson',\n",
       " 'Address',\n",
       " 'Prescription:',\n",
       " '-',\n",
       " 'Fenderedine',\n",
       " '180mg',\n",
       " '1x',\n",
       " 'daily',\n",
       " '-Flonese',\n",
       " '50mcg',\n",
       " '/',\n",
       " 'spray/nostril',\n",
       " '2x',\n",
       " 'daily',\n",
       " '-Ventolin',\n",
       " '90',\n",
       " 'meg',\n",
       " '2',\n",
       " 'puffs',\n",
       " 'as',\n",
       " 'needed',\n",
       " 'MOlance',\n",
       " 'Refil',\n",
       " '012345',\n",
       " 'Permission']"
      ]
     },
     "execution_count": 39,
     "metadata": {},
     "output_type": "execute_result"
    }
   ],
   "execution_count": 39
  },
  {
   "metadata": {
    "ExecuteTime": {
     "end_time": "2025-05-14T21:05:27.489503Z",
     "start_time": "2025-05-14T21:05:27.443879Z"
    }
   },
   "cell_type": "code",
   "source": [
    "matches_matrix = rapidfuzz.process.cdist(raw_text.upper().split(), sorted_names, scorer=rapidfuzz.fuzz.partial_ratio,\n",
    "                                         score_cutoff=70)\n",
    "terms = set(sorted_names[i] for i in np.where(matches_matrix > 0)[0])"
   ],
   "id": "1ba00fe01178b31",
   "outputs": [],
   "execution_count": 40
  },
  {
   "metadata": {
    "ExecuteTime": {
     "end_time": "2025-05-14T21:05:27.501243Z",
     "start_time": "2025-05-14T21:05:27.498490Z"
    }
   },
   "cell_type": "code",
   "source": "len(terms)",
   "id": "4ea68d3d27c31d34",
   "outputs": [
    {
     "data": {
      "text/plain": [
       "23"
      ]
     },
     "execution_count": 41,
     "metadata": {},
     "output_type": "execute_result"
    }
   ],
   "execution_count": 41
  },
  {
   "metadata": {
    "ExecuteTime": {
     "end_time": "2025-05-14T21:05:27.532085Z",
     "start_time": "2025-05-14T21:05:27.529691Z"
    }
   },
   "cell_type": "code",
   "source": "terms",
   "id": "ab451a50392074f7",
   "outputs": [
    {
     "data": {
      "text/plain": [
       "{'ABACAVIR',\n",
       " 'ABAMETAPIR',\n",
       " 'ABATACEPT',\n",
       " 'ABCIXIMAB',\n",
       " 'ABELCET',\n",
       " 'ABEMACICLIB',\n",
       " 'ABILIFY',\n",
       " 'ABIRATERONE',\n",
       " 'ABLAVAR',\n",
       " 'ABLYSINOL',\n",
       " 'ABRAXANE',\n",
       " 'ABREVA',\n",
       " 'ABRILADA',\n",
       " 'ABSORBASE',\n",
       " 'ABSTRAL',\n",
       " 'ACALABRUTINIB',\n",
       " 'ACANYA',\n",
       " 'ACCOLATE',\n",
       " 'ACCRETROPIN',\n",
       " 'ACCRUFER',\n",
       " 'ACCUNEB',\n",
       " 'ACCUPRIL',\n",
       " 'ACCURETIC'}"
      ]
     },
     "execution_count": 42,
     "metadata": {},
     "output_type": "execute_result"
    }
   ],
   "execution_count": 42
  },
  {
   "metadata": {
    "ExecuteTime": {
     "end_time": "2025-05-14T21:05:27.615941Z",
     "start_time": "2025-05-14T21:05:27.568480Z"
    }
   },
   "cell_type": "code",
   "source": [
    "terms = set()\n",
    "for word in raw_text.upper().split():\n",
    "    matches = rapidfuzz.process.extract(\n",
    "        word,\n",
    "        sorted_names,\n",
    "        scorer=rapidfuzz.fuzz.partial_ratio,\n",
    "        score_cutoff=70,\n",
    "        limit=50,\n",
    "    )\n",
    "    if matches:\n",
    "        for match, score, _ in matches:\n",
    "            terms.add(match)"
   ],
   "id": "6e29af3c7482d43c",
   "outputs": [],
   "execution_count": 43
  },
  {
   "metadata": {
    "ExecuteTime": {
     "end_time": "2025-05-14T21:05:27.627239Z",
     "start_time": "2025-05-14T21:05:27.624809Z"
    }
   },
   "cell_type": "code",
   "source": "len(terms)",
   "id": "40d7e7cf2aaabe8c",
   "outputs": [
    {
     "data": {
      "text/plain": [
       "719"
      ]
     },
     "execution_count": 44,
     "metadata": {},
     "output_type": "execute_result"
    }
   ],
   "execution_count": 44
  },
  {
   "metadata": {
    "ExecuteTime": {
     "end_time": "2025-05-14T21:05:27.662068Z",
     "start_time": "2025-05-14T21:05:27.656788Z"
    }
   },
   "cell_type": "code",
   "source": [
    "rapidfuzz.process.extract(\n",
    "    'Fenderedine'.upper(),\n",
    "    sorted_names,\n",
    "    scorer=rapidfuzz.fuzz.partial_ratio,\n",
    "    score_cutoff=70,\n",
    "    limit=100,\n",
    ")"
   ],
   "id": "591d146a723b1124",
   "outputs": [
    {
     "data": {
      "text/plain": [
       "[('RED', 100.0, 5766),\n",
       " ('VFEND', 88.88888888888889, 7350),\n",
       " ('EMADINE', 83.33333333333334, 2201),\n",
       " ('EXIDINE', 83.33333333333334, 2487),\n",
       " ('FERNDEX', 83.33333333333334, 2566),\n",
       " ('DEXEDRINE', 82.35294117647058, 1797),\n",
       " ('ENDEP', 80.0, 2244),\n",
       " ('IODINE', 80.0, 3367),\n",
       " ('LODINE', 80.0, 3825),\n",
       " ('NALDEMEDINE', 80.0, 4450),\n",
       " ('NEE', 80.0, 4506),\n",
       " ('NEO', 80.0, 4516),\n",
       " ('PAREDRINE', 80.0, 5081),\n",
       " ('BETADINE', 76.92307692307692, 786),\n",
       " ('FEDERAL', 76.92307692307692, 2538),\n",
       " ('MAFENIDE', 76.92307692307692, 3965),\n",
       " ('URIDINE', 76.92307692307692, 7186),\n",
       " ('EDEX', 75.0, 2122),\n",
       " ('EPHEDRINE', 75.0, 2293),\n",
       " ('INFED', 75.0, 3274),\n",
       " ('OVINE', 75.0, 4974),\n",
       " ('PRED', 75.0, 5458),\n",
       " ('PREDNISONE', 75.0, 5465),\n",
       " ('RUFEN', 75.0, 5993),\n",
       " ('DELAVIRDINE', 73.6842105263158, 1699),\n",
       " ('DESERPIDINE', 73.6842105263158, 1760),\n",
       " ('ENSIFENTRINE', 73.6842105263158, 2268),\n",
       " ('FEXOFENADINE', 73.6842105263158, 2584),\n",
       " ('ORPHENADRINE', 73.6842105263158, 4930),\n",
       " ('BELDIN', 72.72727272727273, 720),\n",
       " ('CODEINE', 72.72727272727273, 1397),\n",
       " ('DIANEAL', 72.72727272727273, 1827),\n",
       " ('DIASONE', 72.72727272727273, 1829),\n",
       " ('BRETHINE', 71.42857142857143, 900),\n",
       " ('DENDRID', 71.42857142857143, 1724),\n",
       " ('EDECRIN', 71.42857142857143, 2120),\n",
       " ('ENTEREG', 71.42857142857143, 2277),\n",
       " ('FELDENE', 71.42857142857143, 2542),\n",
       " ('FENOGLIDE', 71.42857142857143, 2558),\n",
       " ('FREAMINE', 71.42857142857143, 2748),\n",
       " ('KERYDIN', 71.42857142857143, 3544),\n",
       " ('MAREZINE', 71.42857142857143, 3989),\n",
       " ('MENADIONE', 71.42857142857143, 4072),\n",
       " ('METERED', 71.42857142857143, 4130),\n",
       " ('PRELUDIN', 71.42857142857143, 5474),\n",
       " ('REDIDOSE', 71.42857142857143, 5767),\n",
       " ('REDIJECT', 71.42857142857143, 5769),\n",
       " ('REDITREX', 71.42857142857143, 5773),\n",
       " ('REGITINE', 71.42857142857143, 5778),\n",
       " ('TRIDIONE', 71.42857142857143, 6976),\n",
       " ('BENZEDRINE', 70.58823529411764, 753),\n",
       " ('CEPHRADINE', 70.58823529411764, 1187),\n",
       " ('CERUBIDINE', 70.58823529411764, 1203),\n",
       " ('DESIRUDIN', 70.58823529411764, 1764),\n",
       " ('EMEDASTINE', 70.58823529411764, 2208),\n",
       " ('ETRETINATE', 70.58823529411764, 2449),\n",
       " ('HYDERGINE', 70.58823529411764, 3108),\n",
       " ('MEPERIDINE', 70.58823529411764, 4084),\n",
       " ('PSEUDOEPHEDRINE', 70.58823529411764, 5621),\n",
       " ('ANILERIDINE', 70.0, 424),\n",
       " ('CHLORPHENTERMINE', 70.0, 1260),\n",
       " ('ENDOMETRIN', 70.0, 2246),\n",
       " ('MEPHENTERMINE', 70.0, 4086),\n",
       " ('PHENTERMINE', 70.0, 5268)]"
      ]
     },
     "execution_count": 45,
     "metadata": {},
     "output_type": "execute_result"
    }
   ],
   "execution_count": 45
  },
  {
   "metadata": {
    "ExecuteTime": {
     "end_time": "2025-05-14T21:05:27.697078Z",
     "start_time": "2025-05-14T21:05:27.694753Z"
    }
   },
   "cell_type": "code",
   "source": "rapidfuzz.fuzz.partial_ratio(\"fenderedine\", \"fexofenadine\")",
   "id": "791c40b612ba35d2",
   "outputs": [
    {
     "data": {
      "text/plain": [
       "73.6842105263158"
      ]
     },
     "execution_count": 46,
     "metadata": {},
     "output_type": "execute_result"
    }
   ],
   "execution_count": 46
  },
  {
   "metadata": {},
   "cell_type": "markdown",
   "source": [
    "### Reduce results?\n",
    "That's a lot of results. Maybe they can be reduced by asking a small llm to identify words that could be medications."
   ],
   "id": "30fdf6db4c7f2a57"
  },
  {
   "metadata": {
    "ExecuteTime": {
     "end_time": "2025-05-14T21:05:27.758420Z",
     "start_time": "2025-05-14T21:05:27.751577Z"
    }
   },
   "cell_type": "code",
   "source": "bedrock: \"BedrockRuntimeClient\" = boto3.client(\"bedrock-runtime\")",
   "id": "4e2889ae5462de5f",
   "outputs": [],
   "execution_count": 47
  },
  {
   "metadata": {
    "ExecuteTime": {
     "end_time": "2025-05-14T21:05:27.785210Z",
     "start_time": "2025-05-14T21:05:27.783048Z"
    }
   },
   "cell_type": "code",
   "source": [
    "system_prompt = '''You are a pharmacist looking for drug and active ingredient names on prescription transcriptions. There may be transcription errors.\n",
    "\n",
    "Please identify all possible drug names or active ingredient names in the text even if you don't recognize them. Use the context of the position of the words and the words around them to determine which words are possible drug names or active ingredient names.\n",
    "\n",
    "Return ONLY the list of words as a JSON list.\n",
    "'''"
   ],
   "id": "b3bb00a6bfbad584",
   "outputs": [],
   "execution_count": 48
  },
  {
   "metadata": {
    "ExecuteTime": {
     "end_time": "2025-05-14T21:05:28.662660Z",
     "start_time": "2025-05-14T21:05:27.877800Z"
    }
   },
   "cell_type": "code",
   "source": [
    "response = bedrock.converse(modelId=\"us.amazon.nova-micro-v1:0\",\n",
    "                            messages=[\n",
    "                                {\"role\": \"user\", \"content\": [{\"text\": raw_text}]},\n",
    "                                {\"role\": \"assistant\", \"content\": [{\"text\": \"[\"}]}\n",
    "                            ],\n",
    "                            system=[{\"text\": system_prompt}, {\"cachePoint\": {\"type\": \"default\"}}],\n",
    "                            inferenceConfig={\n",
    "                                \"temperature\": 0.0,\n",
    "                                \"stopSequences\": [\"]\"],\n",
    "                            }\n",
    "                            )"
   ],
   "id": "b3d05a10171151f7",
   "outputs": [],
   "execution_count": 49
  },
  {
   "metadata": {
    "ExecuteTime": {
     "end_time": "2025-05-14T21:05:28.674942Z",
     "start_time": "2025-05-14T21:05:28.673104Z"
    }
   },
   "cell_type": "code",
   "source": "json_output = \"[\" + response[\"output\"][\"message\"][\"content\"][0][\"text\"]",
   "id": "c52552d984b7ff9e",
   "outputs": [],
   "execution_count": 50
  },
  {
   "metadata": {
    "ExecuteTime": {
     "end_time": "2025-05-14T21:05:28.699839Z",
     "start_time": "2025-05-14T21:05:28.697588Z"
    }
   },
   "cell_type": "code",
   "source": "json.loads(json_output)",
   "id": "9e8b66d181a15de9",
   "outputs": [
    {
     "data": {
      "text/plain": [
       "['Fenderedine', 'Flonese', 'Ventolin', 'MOlance']"
      ]
     },
     "execution_count": 51,
     "metadata": {},
     "output_type": "execute_result"
    }
   ],
   "execution_count": 51
  },
  {
   "metadata": {
    "ExecuteTime": {
     "end_time": "2025-05-14T21:05:28.747291Z",
     "start_time": "2025-05-14T21:05:28.738103Z"
    }
   },
   "cell_type": "code",
   "source": [
    "terms = set()\n",
    "for word in json.loads(json_output):\n",
    "    matches = rapidfuzz.process.extract(\n",
    "        word.upper(),\n",
    "        sorted_names,\n",
    "        scorer=rapidfuzz.fuzz.partial_ratio,\n",
    "        score_cutoff=70,\n",
    "        limit=None,\n",
    "    )\n",
    "    if matches:\n",
    "        for match, score, _ in matches:\n",
    "            terms.add(match)"
   ],
   "id": "50af0bcdb9cb4b8",
   "outputs": [],
   "execution_count": 52
  },
  {
   "metadata": {
    "ExecuteTime": {
     "end_time": "2025-05-14T21:05:28.776803Z",
     "start_time": "2025-05-14T21:05:28.774376Z"
    }
   },
   "cell_type": "code",
   "source": "len(terms)",
   "id": "6bffbc1e5ec70a81",
   "outputs": [
    {
     "data": {
      "text/plain": [
       "258"
      ]
     },
     "execution_count": 53,
     "metadata": {},
     "output_type": "execute_result"
    }
   ],
   "execution_count": 53
  },
  {
   "metadata": {
    "ExecuteTime": {
     "end_time": "2025-05-14T21:05:28.810629Z",
     "start_time": "2025-05-14T21:05:28.808360Z"
    }
   },
   "cell_type": "code",
   "source": "\"FEXOFENADINE\" in terms",
   "id": "e46f2f6e172dcee1",
   "outputs": [
    {
     "data": {
      "text/plain": [
       "True"
      ]
     },
     "execution_count": 54,
     "metadata": {},
     "output_type": "execute_result"
    }
   ],
   "execution_count": 54
  },
  {
   "metadata": {},
   "cell_type": "markdown",
   "source": "258 terms is much more reasonable. Now we have our method!",
   "id": "971b1f48efdc1e69"
  },
  {
   "metadata": {
    "ExecuteTime": {
     "end_time": "2025-05-14T22:05:35.558817Z",
     "start_time": "2025-05-14T22:05:35.556148Z"
    }
   },
   "cell_type": "code",
   "source": [
    "class DrugNameMatcher:\n",
    "    def __init__(self, word_list: list[str], threshold: int = 70):\n",
    "        self.word_list = word_list\n",
    "        self.threshold = threshold\n",
    "\n",
    "    def find_matches(self, query: str, limit: Optional[int] = None) -> list[tuple[str, int, int | str]]:\n",
    "        return rapidfuzz.process.extract(\n",
    "            query.upper(),\n",
    "            self.word_list,\n",
    "            scorer=rapidfuzz.fuzz.partial_ratio,\n",
    "            limit=limit,\n",
    "            score_cutoff=self.threshold\n",
    "        )\n",
    "\n",
    "    def list_matches(self, words: list[str]) -> set[str]:\n",
    "        \"\"\"\n",
    "        Process multiple words in batch and return unique matches.\n",
    "\n",
    "        Args:\n",
    "            words: List of words to process\n",
    "\n",
    "        Returns:\n",
    "            Set of unique matched drug names\n",
    "        \"\"\"\n",
    "        return {\n",
    "            match for word in words\n",
    "            for match, score, _ in self.find_matches(word.upper())\n",
    "        }"
   ],
   "id": "f068723535de94ea",
   "outputs": [],
   "execution_count": 71
  },
  {
   "metadata": {
    "ExecuteTime": {
     "end_time": "2025-05-14T22:05:36.170948Z",
     "start_time": "2025-05-14T22:05:36.168899Z"
    }
   },
   "cell_type": "code",
   "source": "matcher = DrugNameMatcher(sorted_names, threshold=70)",
   "id": "8f8902490c723f9c",
   "outputs": [],
   "execution_count": 72
  },
  {
   "metadata": {
    "ExecuteTime": {
     "end_time": "2025-05-14T22:05:36.855074Z",
     "start_time": "2025-05-14T22:05:36.846Z"
    }
   },
   "cell_type": "code",
   "source": "terms = matcher.list_matches(json.loads(json_output))",
   "id": "2f29899b5d12b6a3",
   "outputs": [],
   "execution_count": 73
  },
  {
   "metadata": {
    "ExecuteTime": {
     "end_time": "2025-05-14T22:05:37.704023Z",
     "start_time": "2025-05-14T22:05:37.701639Z"
    }
   },
   "cell_type": "code",
   "source": "len(terms)",
   "id": "d1c12a6213cf0aad",
   "outputs": [
    {
     "data": {
      "text/plain": [
       "258"
      ]
     },
     "execution_count": 74,
     "metadata": {},
     "output_type": "execute_result"
    }
   ],
   "execution_count": 74
  },
  {
   "metadata": {
    "ExecuteTime": {
     "end_time": "2025-05-14T22:05:38.515230Z",
     "start_time": "2025-05-14T22:05:38.512910Z"
    }
   },
   "cell_type": "code",
   "source": "\"FEXOFENADINE\" in terms",
   "id": "c0f1d7876f3fb92d",
   "outputs": [
    {
     "data": {
      "text/plain": [
       "True"
      ]
     },
     "execution_count": 75,
     "metadata": {},
     "output_type": "execute_result"
    }
   ],
   "execution_count": 75
  },
  {
   "metadata": {
    "ExecuteTime": {
     "end_time": "2025-05-14T21:05:32.650731Z",
     "start_time": "2025-05-14T21:05:29.015035Z"
    }
   },
   "cell_type": "code",
   "source": [
    "results = search_drugs(list(terms))\n",
    "print(len(results))"
   ],
   "id": "f17d10953db307a1",
   "outputs": [
    {
     "name": "stdout",
     "output_type": "stream",
     "text": [
      "raw result count 10674\n",
      "filtered result count 6684\n",
      "6684\n"
     ]
    }
   ],
   "execution_count": 60
  },
  {
   "metadata": {
    "ExecuteTime": {
     "end_time": "2025-05-15T16:53:49.412450Z",
     "start_time": "2025-05-15T16:53:49.275971Z"
    }
   },
   "cell_type": "code",
   "source": [
    "terms = [\"flonase\", \"ventolin\", \"fexofenadine\", \"losartan\", \"loratadine\", \"lansoprazole\"]\n",
    "results = search_drugs(terms)"
   ],
   "id": "73d1993073c944e9",
   "outputs": [
    {
     "name": "stdout",
     "output_type": "stream",
     "text": [
      "raw result count 802\n",
      "filtered result count 736\n"
     ]
    }
   ],
   "execution_count": 86
  },
  {
   "metadata": {
    "ExecuteTime": {
     "end_time": "2025-05-15T16:53:51.792533Z",
     "start_time": "2025-05-15T16:53:51.789283Z"
    }
   },
   "cell_type": "code",
   "source": [
    "medications = [\"active ingredients | drug name | strength\", \"---|---|---\"]\n",
    "for active, drug_name, strength in results:\n",
    "    medications.append(f\"{active} | {drug_name} | {strength}\")\n",
    "with open(\"data/medications.txt\", \"w\") as f:\n",
    "    f.write(\"\\n\".join(medications))"
   ],
   "id": "5fdcacdf885356b9",
   "outputs": [],
   "execution_count": 87
  },
  {
   "metadata": {},
   "cell_type": "code",
   "outputs": [],
   "execution_count": null,
   "source": "",
   "id": "df9aab1a14eba10e"
  }
 ],
 "metadata": {
  "kernelspec": {
   "display_name": "Python 3",
   "language": "python",
   "name": "python3"
  },
  "language_info": {
   "codemirror_mode": {
    "name": "ipython",
    "version": 2
   },
   "file_extension": ".py",
   "mimetype": "text/x-python",
   "name": "python",
   "nbconvert_exporter": "python",
   "pygments_lexer": "ipython2",
   "version": "2.7.6"
  }
 },
 "nbformat": 4,
 "nbformat_minor": 5
}
